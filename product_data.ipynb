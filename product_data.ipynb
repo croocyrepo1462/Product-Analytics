{
 "cells": [
  {
   "cell_type": "code",
   "execution_count": 2,
   "metadata": {
    "id": "eNyDDvee2_-w"
   },
   "outputs": [
    {
     "name": "stderr",
     "output_type": "stream",
     "text": [
      "/var/folders/tw/fcpm0yt92373jr8xdhl9gp380000gn/T/ipykernel_24101/515970613.py:30: DeprecationWarning: Sampling from a set deprecated\n",
      "since Python 3.9 and will be removed in a subsequent version.\n",
      "  daily_user_ids.update(random.sample(user_id_pool, min(len(user_id_pool), 30)))  # 30% returning users\n"
     ]
    }
   ],
   "source": [
    "import pandas as pd\n",
    "import numpy as np\n",
    "import random\n",
    "import string\n",
    "\n",
    "# Number of days in two quarters\n",
    "num_days = 2 * 90\n",
    "\n",
    "# Generate dates\n",
    "dates = pd.date_range(start='2023-01-01', periods=num_days, freq='D')\n",
    "\n",
    "# List of countries\n",
    "countries = ['USA', 'UK', 'Canada', 'Australia', 'Germany', 'France', 'Japan']\n",
    "\n",
    "# List of event names\n",
    "event_names = ['project created', 'editor touched', 'project exported', 'project downloaded']\n",
    "\n",
    "# Initialize DataFrame\n",
    "data = []\n",
    "\n",
    "# Pool of user IDs to simulate returning users\n",
    "user_id_pool = set()\n",
    "\n",
    "# Generate data for each day\n",
    "for date in dates:\n",
    "    # Generate new user IDs for the day\n",
    "    daily_user_ids = set([''.join(random.choices(string.ascii_letters + string.digits, k=24)) for _ in range(70)])  # 70% new users\n",
    "    # Add a portion of existing user IDs for returning users\n",
    "    if user_id_pool:\n",
    "        daily_user_ids.update(random.sample(list(user_id_pool), min(len(user_id_pool), 30)))  # 30% returning users\n",
    "\n",
    "    # Update the user ID pool with today's user IDs\n",
    "    user_id_pool.update(daily_user_ids)\n",
    "\n",
    "    # Generate event IDs for the day\n",
    "    event_ids = [''.join(random.choices(string.ascii_letters + string.digits, k=35)) for _ in range(100)]\n",
    "\n",
    "    for _ in range(100):  # 100 rows per day\n",
    "        country = random.choice(countries)\n",
    "        event_name = random.choice(event_names)\n",
    "        user_id = random.choice(list(daily_user_ids))\n",
    "        event_id = random.choice(event_ids)\n",
    "        platform = random.choice(['mob', 'web'])\n",
    "        new_vs_returning = 'new' if user_id in daily_user_ids and user_id not in user_id_pool else 'returning'\n",
    "        data.append([date, country, event_name, user_id, event_id, platform, new_vs_returning])\n",
    "\n",
    "# Create DataFrame\n",
    "df = pd.DataFrame(data, columns=['date', 'country', 'event_name', 'user_id', 'event_id', 'platform', 'new_vs_returning'])\n",
    "\n",
    "# Save DataFrame to CSV\n",
    "df.to_csv(\"Daily_data.csv\", index=False)"
   ]
  },
  {
   "cell_type": "code",
   "execution_count": 2,
   "metadata": {
    "id": "d3_SOkFh188A"
   },
   "outputs": [],
   "source": [
    "import pandas as pd\n",
    "import numpy as np\n",
    "import random\n",
    "import string\n",
    "\n",
    "# Number of days in two quarters\n",
    "num_days = 2 * 90\n",
    "\n",
    "# Generate dates\n",
    "dates = pd.date_range(start='2023-01-01', periods=num_days, freq='D')\n",
    "\n",
    "# Initialize DataFrame for subscription data\n",
    "subscription_data = []\n",
    "\n",
    "# Generate subscription data for each day\n",
    "for date in dates:\n",
    "    for _ in range(100):  # 100 subscriptions per day\n",
    "        subscription_tenure = random.randint(1, 12)  # Random tenure between 1 and 12 months\n",
    "        subscription_type = 'monthly' if random.random() < 0.5 else 'yearly'\n",
    "        if subscription_type == 'monthly':\n",
    "            subscription_price = 9.99\n",
    "            discount = 0\n",
    "        else:\n",
    "            subscription_price = 9.99 * 12\n",
    "            discount = 19.99\n",
    "        subscription_data.append([date, 'new_arr', subscription_type, subscription_tenure, subscription_price, discount, ''])\n",
    "\n",
    "        if random.random() < 0.2:  # 20% chance of cancellation\n",
    "            cancel_reason = random.choice(['price', 'service', 'not using', 'switched to competitor'])\n",
    "            subscription_data.append([date, 'cancel_arr', subscription_type, subscription_tenure, subscription_price, discount, cancel_reason])\n",
    "\n",
    "# Create DataFrame for subscription data\n",
    "subscription_df = pd.DataFrame(subscription_data, columns=['date', 'type', 'subscription_type', 'subscription_tenure', 'subscription_price', 'discount', 'cancel_reason'])\n",
    "\n",
    "# Save DataFrame to CSV\n",
    "subscription_df.to_csv(\"subscription_data.csv\", index=False)\n",
    "\n"
   ]
  },
  {
   "cell_type": "code",
   "execution_count": 3,
   "metadata": {
    "colab": {
     "base_uri": "https://localhost:8080/"
    },
    "id": "g74qks38K6G6",
    "outputId": "78e8234a-097a-42fc-e538-2d5a3806508a"
   },
   "outputs": [
    {
     "name": "stderr",
     "output_type": "stream",
     "text": [
      "<ipython-input-3-462d095b23da>:7: FutureWarning: weekofyear and week have been deprecated, please use DatetimeIndex.isocalendar().week instead, which returns a Series. To exactly reproduce the behavior of week and weekofyear and return an Index, you may call pd.Int64Index(idx.isocalendar().week)\n",
      "  week = dates.weekofyear\n"
     ]
    }
   ],
   "source": [
    "import pandas as pd\n",
    "\n",
    "# Generate dates\n",
    "dates = pd.date_range(start='2023-01-01', end='2023-06-29')\n",
    "\n",
    "# Extract week, quarter, and year\n",
    "week = dates.weekofyear\n",
    "quarter = dates.quarter\n",
    "year = dates.year\n",
    "\n",
    "# Create DataFrame for mapping sheet\n",
    "mapping_sheet = pd.DataFrame({'date': dates, 'week': week, 'quarter': quarter, 'year': year})\n",
    "\n",
    "# Save DataFrame to CSV\n",
    "mapping_sheet.to_csv(\"mapping_sheet.csv\", index=False)\n",
    "\n",
    "\n",
    "\n"
   ]
  }
 ],
 "metadata": {
  "colab": {
   "provenance": []
  },
  "kernelspec": {
   "display_name": "Python 3 (ipykernel)",
   "language": "python",
   "name": "python3"
  },
  "language_info": {
   "codemirror_mode": {
    "name": "ipython",
    "version": 3
   },
   "file_extension": ".py",
   "mimetype": "text/x-python",
   "name": "python",
   "nbconvert_exporter": "python",
   "pygments_lexer": "ipython3",
   "version": "3.9.18"
  }
 },
 "nbformat": 4,
 "nbformat_minor": 1
}
